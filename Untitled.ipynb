{
 "cells": [
  {
   "cell_type": "code",
   "execution_count": 35,
   "id": "3b516e1f",
   "metadata": {},
   "outputs": [],
   "source": [
    "import pandas as pd"
   ]
  },
  {
   "cell_type": "code",
   "execution_count": 36,
   "id": "663f0bac",
   "metadata": {},
   "outputs": [],
   "source": [
    "# df = pd.read_csv(\"talk_to_us/country_data/country.csv\")"
   ]
  },
  {
   "cell_type": "code",
   "execution_count": 37,
   "id": "09285466",
   "metadata": {},
   "outputs": [],
   "source": [
    "df_country = pd.read_csv('talk_to_us/country_data/country.csv')\n",
    "df_country = df_country[df_country['Dial'].notna()]\n",
    "df_country['Dial'] = df_country['Dial'].apply(lambda x : x.replace(\"-\",\"\"))\n",
    "df_country.drop_duplicates(subset=['Dial'],inplace=True)\n",
    "df_country['Dial'] = df_country['Dial'].apply(lambda x : x.split(\",\")[0])\n",
    "df_country = df_country[['FIFA','Dial']]"
   ]
  },
  {
   "cell_type": "code",
   "execution_count": 38,
   "id": "4ad0a4c2",
   "metadata": {},
   "outputs": [],
   "source": [
    "new_row = pd.DataFrame({'FIFA':'IND', 'Dial':'91'},index =[0])"
   ]
  },
  {
   "cell_type": "code",
   "execution_count": 39,
   "id": "7ebf586f",
   "metadata": {},
   "outputs": [],
   "source": [
    "df_country = pd.concat([new_row, df_country]).reset_index(drop = True)"
   ]
  },
  {
   "cell_type": "code",
   "execution_count": 40,
   "id": "46ec85c1",
   "metadata": {},
   "outputs": [],
   "source": [
    "df_country.drop_duplicates(subset=['Dial'],inplace=True)"
   ]
  },
  {
   "cell_type": "code",
   "execution_count": 41,
   "id": "eae969e3",
   "metadata": {},
   "outputs": [],
   "source": [
    "df_country['Dial'] = df_country['Dial'].apply(lambda x : \"+\" + x)"
   ]
  },
  {
   "cell_type": "code",
   "execution_count": 42,
   "id": "bcde458f",
   "metadata": {},
   "outputs": [],
   "source": [
    "df_country['country_with_dialing_code'] = df_country['FIFA'] + \" \" + df_country['Dial']"
   ]
  },
  {
   "cell_type": "code",
   "execution_count": 43,
   "id": "f1f9e44a",
   "metadata": {},
   "outputs": [],
   "source": [
    "df_country = df_country[['country_with_dialing_code','Dial']]\n",
    "df_country.dropna(inplace=True)"
   ]
  },
  {
   "cell_type": "code",
   "execution_count": 44,
   "id": "4ab5247f",
   "metadata": {},
   "outputs": [],
   "source": [
    "df = list(df_country.to_dict('index').values())"
   ]
  },
  {
   "cell_type": "code",
   "execution_count": 46,
   "id": "e5c87276",
   "metadata": {},
   "outputs": [
    {
     "data": {
      "text/plain": [
       "223"
      ]
     },
     "execution_count": 46,
     "metadata": {},
     "output_type": "execute_result"
    }
   ],
   "source": [
    "len(df)"
   ]
  },
  {
   "cell_type": "code",
   "execution_count": null,
   "id": "0a9effb1",
   "metadata": {},
   "outputs": [],
   "source": []
  },
  {
   "cell_type": "code",
   "execution_count": null,
   "id": "59812c7d",
   "metadata": {},
   "outputs": [],
   "source": []
  },
  {
   "cell_type": "code",
   "execution_count": null,
   "id": "0da1df89",
   "metadata": {},
   "outputs": [],
   "source": []
  }
 ],
 "metadata": {
  "kernelspec": {
   "display_name": "Python 3 (ipykernel)",
   "language": "python",
   "name": "python3"
  },
  "language_info": {
   "codemirror_mode": {
    "name": "ipython",
    "version": 3
   },
   "file_extension": ".py",
   "mimetype": "text/x-python",
   "name": "python",
   "nbconvert_exporter": "python",
   "pygments_lexer": "ipython3",
   "version": "3.9.2"
  }
 },
 "nbformat": 4,
 "nbformat_minor": 5
}
