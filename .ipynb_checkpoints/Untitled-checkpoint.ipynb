{
 "cells": [
  {
   "cell_type": "code",
   "execution_count": 24,
   "id": "8be421d3",
   "metadata": {},
   "outputs": [],
   "source": [
    "import pandas as pd"
   ]
  },
  {
   "cell_type": "code",
   "execution_count": 25,
   "id": "e3c7a502",
   "metadata": {},
   "outputs": [],
   "source": [
    "# df = pd.read_csv(\"talk_to_us/country_data/country.csv\")"
   ]
  },
  {
   "cell_type": "code",
   "execution_count": 26,
   "id": "89a8f714",
   "metadata": {},
   "outputs": [],
   "source": [
    "df_country = pd.read_csv('talk_to_us/country_data/country.csv')\n",
    "df_country = df_country[df_country['Dial'].notna()]\n",
    "# df_country['Dial'] = df_country['Dial'].apply(lambda x : '+' + x)\n",
    "df_country['Dial'] = df_country['Dial'].apply(lambda x : x.replace(\"-\",\"\"))\n",
    "df_country.drop_duplicates(subset=['Dial'],inplace=True)\n",
    "df_country['Dial'] = df_country['Dial'].apply(lambda x : x.split(\",\")[0])\n",
    "df_country = df_country[['FIFA','Dial']]"
   ]
  },
  {
   "cell_type": "code",
   "execution_count": 30,
   "id": "e0cde923",
   "metadata": {},
   "outputs": [],
   "source": [
    "new_row = pd.DataFrame({'FIFA':'IND', 'Dial':'91'},index =[0])"
   ]
  },
  {
   "cell_type": "code",
   "execution_count": 31,
   "id": "16782fea",
   "metadata": {},
   "outputs": [],
   "source": [
    "df_country = pd.concat([new_row, df_country]).reset_index(drop = True)"
   ]
  },
  {
   "cell_type": "code",
   "execution_count": 33,
   "id": "0d48e124",
   "metadata": {},
   "outputs": [
    {
     "data": {
      "text/html": [
       "<div>\n",
       "<style scoped>\n",
       "    .dataframe tbody tr th:only-of-type {\n",
       "        vertical-align: middle;\n",
       "    }\n",
       "\n",
       "    .dataframe tbody tr th {\n",
       "        vertical-align: top;\n",
       "    }\n",
       "\n",
       "    .dataframe thead th {\n",
       "        text-align: right;\n",
       "    }\n",
       "</style>\n",
       "<table border=\"1\" class=\"dataframe\">\n",
       "  <thead>\n",
       "    <tr style=\"text-align: right;\">\n",
       "      <th></th>\n",
       "      <th>FIFA</th>\n",
       "      <th>Dial</th>\n",
       "    </tr>\n",
       "  </thead>\n",
       "  <tbody>\n",
       "    <tr>\n",
       "      <th>0</th>\n",
       "      <td>IND</td>\n",
       "      <td>91</td>\n",
       "    </tr>\n",
       "    <tr>\n",
       "      <th>1</th>\n",
       "      <td>TPE</td>\n",
       "      <td>886</td>\n",
       "    </tr>\n",
       "    <tr>\n",
       "      <th>2</th>\n",
       "      <td>AFG</td>\n",
       "      <td>93</td>\n",
       "    </tr>\n",
       "    <tr>\n",
       "      <th>3</th>\n",
       "      <td>ALB</td>\n",
       "      <td>355</td>\n",
       "    </tr>\n",
       "    <tr>\n",
       "      <th>4</th>\n",
       "      <td>ALG</td>\n",
       "      <td>213</td>\n",
       "    </tr>\n",
       "    <tr>\n",
       "      <th>...</th>\n",
       "      <td>...</td>\n",
       "      <td>...</td>\n",
       "    </tr>\n",
       "    <tr>\n",
       "      <th>224</th>\n",
       "      <td>VIE</td>\n",
       "      <td>84</td>\n",
       "    </tr>\n",
       "    <tr>\n",
       "      <th>225</th>\n",
       "      <td>WLF</td>\n",
       "      <td>681</td>\n",
       "    </tr>\n",
       "    <tr>\n",
       "      <th>226</th>\n",
       "      <td>YEM</td>\n",
       "      <td>967</td>\n",
       "    </tr>\n",
       "    <tr>\n",
       "      <th>227</th>\n",
       "      <td>ZAM</td>\n",
       "      <td>260</td>\n",
       "    </tr>\n",
       "    <tr>\n",
       "      <th>228</th>\n",
       "      <td>ZIM</td>\n",
       "      <td>263</td>\n",
       "    </tr>\n",
       "  </tbody>\n",
       "</table>\n",
       "<p>224 rows × 2 columns</p>\n",
       "</div>"
      ],
      "text/plain": [
       "    FIFA Dial\n",
       "0    IND   91\n",
       "1    TPE  886\n",
       "2    AFG   93\n",
       "3    ALB  355\n",
       "4    ALG  213\n",
       "..   ...  ...\n",
       "224  VIE   84\n",
       "225  WLF  681\n",
       "226  YEM  967\n",
       "227  ZAM  260\n",
       "228  ZIM  263\n",
       "\n",
       "[224 rows x 2 columns]"
      ]
     },
     "execution_count": 33,
     "metadata": {},
     "output_type": "execute_result"
    }
   ],
   "source": [
    "df_country.drop_duplicates(subset=['FIFA'],inplace=True)"
   ]
  },
  {
   "cell_type": "code",
   "execution_count": null,
   "id": "7cdf2b96",
   "metadata": {},
   "outputs": [],
   "source": []
  },
  {
   "cell_type": "code",
   "execution_count": null,
   "id": "963b638b",
   "metadata": {},
   "outputs": [],
   "source": []
  },
  {
   "cell_type": "code",
   "execution_count": null,
   "id": "cadc475d",
   "metadata": {},
   "outputs": [],
   "source": []
  }
 ],
 "metadata": {
  "kernelspec": {
   "display_name": "Python 3 (ipykernel)",
   "language": "python",
   "name": "python3"
  },
  "language_info": {
   "codemirror_mode": {
    "name": "ipython",
    "version": 3
   },
   "file_extension": ".py",
   "mimetype": "text/x-python",
   "name": "python",
   "nbconvert_exporter": "python",
   "pygments_lexer": "ipython3",
   "version": "3.9.2"
  }
 },
 "nbformat": 4,
 "nbformat_minor": 5
}
